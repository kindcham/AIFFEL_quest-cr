{
  "nbformat": 4,
  "nbformat_minor": 0,
  "metadata": {
    "colab": {
      "provenance": [],
      "authorship_tag": "ABX9TyMHDK+j8//SrjIPgS7NjqKB",
      "include_colab_link": true
    },
    "kernelspec": {
      "name": "python3",
      "display_name": "Python 3"
    },
    "language_info": {
      "name": "python"
    }
  },
  "cells": [
    {
      "cell_type": "markdown",
      "metadata": {
        "id": "view-in-github",
        "colab_type": "text"
      },
      "source": [
        "<a href=\"https://colab.research.google.com/github/kindcham/AIFFEL_quest-cr/blob/main/Quest01/mainquest01.ipynb\" target=\"_parent\"><img src=\"https://colab.research.google.com/assets/colab-badge.svg\" alt=\"Open In Colab\"/></a>"
      ]
    },
    {
      "cell_type": "code",
      "execution_count": null,
      "metadata": {
        "id": "VaiRbTxeTAYY"
      },
      "outputs": [],
      "source": []
    },
    {
      "cell_type": "code",
      "source": [
        "class Hero:\n",
        "    def __init__(self,name,leve,health,power,defence):\n",
        "        self.name = name\n",
        "        self.level =level\n",
        "        self.health = health\n",
        "        self.pewer = power\n",
        "        self.defence = defence\n",
        "\n",
        "    def is_alive(self):\n",
        "        if self.health >= 0\n",
        "        print(True)\n",
        "\n",
        "\n",
        "\n",
        "\n",
        "leve,health,power,defence = map(float, input().split())\n",
        "x = Hero(x.health, x.level, x.power, x.defence)\n"
      ],
      "metadata": {
        "id": "9XEmiBpzTEqw"
      },
      "execution_count": null,
      "outputs": []
    },
    {
      "cell_type": "markdown",
      "source": [
        "은행계좌는 정말 어떻게 시작해야 할지 하나도 모르겠습니다...\n",
        "게임캐릭터는... 저만큼이 스스로 할수 있는 최선인것 같습니다 ㅠㅠ\n",
        "저것도 온전히 이해하고 쓰기보다 예제에 있는것을 따라서 해본정도이긴 합니다만..\n",
        "\n",
        "갈길이 멀다는걸 알고있으니 계속 쫒아가겠습니다 ^^;\n"
      ],
      "metadata": {
        "id": "9JxuENjGTGYz"
      }
    }
  ]
}